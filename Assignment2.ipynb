{
  "nbformat": 4,
  "nbformat_minor": 0,
  "metadata": {
    "colab": {
      "provenance": []
    },
    "kernelspec": {
      "name": "python3",
      "display_name": "Python 3"
    },
    "language_info": {
      "name": "python"
    }
  },
  "cells": [
    {
      "cell_type": "code",
      "execution_count": null,
      "metadata": {
        "id": "BojqMZDSzGjW"
      },
      "outputs": [],
      "source": [
        "#1. WAP to take 10 numbers from a user and store them in a list."
      ]
    },
    {
      "cell_type": "code",
      "source": [
        "input_numb = input('Enter elements of a list separated by space ')\n",
        "print(\"\\n\")\n",
        "user_list = input_numb.split()\n",
        "print('list: ', user_list)\n",
        "\n",
        "for i in range(len(user_list)):\n",
        "    user_list[i] = int(user_list[i])"
      ],
      "metadata": {
        "colab": {
          "base_uri": "https://localhost:8080/"
        },
        "id": "LrX3htTjzTmn",
        "outputId": "94cd4a72-9b51-4832-ce90-41bba9703064"
      },
      "execution_count": null,
      "outputs": [
        {
          "output_type": "stream",
          "name": "stdout",
          "text": [
            "Enter elements of a list separated by space 1 2 3 4 5 6 7 8 9 10\n",
            "\n",
            "\n",
            "list:  ['1', '2', '3', '4', '5', '6', '7', '8', '9', '10']\n"
          ]
        }
      ]
    },
    {
      "cell_type": "code",
      "source": [
        "#2. Display numbers divisible by 5 from a list."
      ],
      "metadata": {
        "id": "XmtwTH-KzY-K"
      },
      "execution_count": null,
      "outputs": []
    },
    {
      "cell_type": "code",
      "source": [
        "flag = True\n",
        "for i in a:\n",
        "    if i%5==0:\n",
        "        print(i)\n",
        "        flag = False\n",
        "\n",
        "if flag:\n",
        "    print(\"not found\")"
      ],
      "metadata": {
        "colab": {
          "base_uri": "https://localhost:8080/"
        },
        "id": "tDkrE00nzb-v",
        "outputId": "18c89cf7-3eaa-4bef-d547-cf9f66902e81"
      },
      "execution_count": null,
      "outputs": [
        {
          "output_type": "stream",
          "name": "stdout",
          "text": [
            "25\n",
            "10\n",
            "5\n"
          ]
        }
      ]
    },
    {
      "cell_type": "code",
      "source": [
        "#3. WAP to calculate the count of elements in a string taken as input from the user."
      ],
      "metadata": {
        "id": "-2y0VJj-zcZe"
      },
      "execution_count": null,
      "outputs": []
    },
    {
      "cell_type": "code",
      "source": [
        "l = input('Enter strings: ')\n",
        "len(l)"
      ],
      "metadata": {
        "colab": {
          "base_uri": "https://localhost:8080/"
        },
        "id": "qcOjXab2ziR8",
        "outputId": "ab95d999-9d5c-43fc-f6b7-d24342407726"
      },
      "execution_count": null,
      "outputs": [
        {
          "name": "stdout",
          "output_type": "stream",
          "text": [
            "Enter strings: Hello World\n"
          ]
        },
        {
          "output_type": "execute_result",
          "data": {
            "text/plain": [
              "11"
            ]
          },
          "metadata": {},
          "execution_count": 49
        }
      ]
    },
    {
      "cell_type": "code",
      "source": [
        "#4. WAP to check if a number is even or odd where number is taken as input."
      ],
      "metadata": {
        "id": "VTn6m8Jfzikc"
      },
      "execution_count": null,
      "outputs": []
    },
    {
      "cell_type": "code",
      "source": [
        "num = int(input(\"Enter a number: \"))\n",
        "if (num % 2) == 0:\n",
        "   print(\"{0} is Even\".format(num))\n",
        "else:\n",
        "   print(\"{0} is Odd\".format(num))"
      ],
      "metadata": {
        "colab": {
          "base_uri": "https://localhost:8080/"
        },
        "id": "tAY488wjzmLQ",
        "outputId": "96643d9e-f4f2-4048-8c10-f85bfbbc7040"
      },
      "execution_count": null,
      "outputs": [
        {
          "output_type": "stream",
          "name": "stdout",
          "text": [
            "Enter a number: 2\n",
            "2 is Even\n"
          ]
        }
      ]
    },
    {
      "cell_type": "code",
      "source": [
        "#5. WAP to reverse a string taken as input from the user.\n"
      ],
      "metadata": {
        "id": "znpFa6fAzmS0"
      },
      "execution_count": null,
      "outputs": []
    },
    {
      "cell_type": "code",
      "source": [
        "txt = input()[::-1]\n",
        "print(txt)"
      ],
      "metadata": {
        "colab": {
          "base_uri": "https://localhost:8080/"
        },
        "id": "0sd1VCNmzo63",
        "outputId": "df613d68-111d-4fb2-ef14-8249fb2d27db"
      },
      "execution_count": null,
      "outputs": [
        {
          "output_type": "stream",
          "name": "stdout",
          "text": [
            "Hello World\n",
            "dlroW olleH\n"
          ]
        }
      ]
    },
    {
      "cell_type": "code",
      "source": [
        "#6. WAP to reverse all the strings present in a list and save them in a new list."
      ],
      "metadata": {
        "id": "PT2U7AObzpRx"
      },
      "execution_count": null,
      "outputs": []
    },
    {
      "cell_type": "code",
      "source": [
        "old_list = [\"halo\", \"world\", \"hello\", \"abc\", \"def\"]\n",
        "print (old_list)\n",
        "new_list = [i[::-1] for i in old_list]\n",
        "print (new_list)"
      ],
      "metadata": {
        "colab": {
          "base_uri": "https://localhost:8080/"
        },
        "id": "ISd_1hOW5oQ6",
        "outputId": "75f9dc86-4fbb-4034-8d9b-1d81d4ef73fe"
      },
      "execution_count": null,
      "outputs": [
        {
          "output_type": "stream",
          "name": "stdout",
          "text": [
            "['halo', 'world', 'hello', 'abc', 'def']\n",
            "['olah', 'dlrow', 'olleh', 'cba', 'fed']\n"
          ]
        }
      ]
    },
    {
      "cell_type": "code",
      "source": [
        "#7. Print characters from a string that are present at an even index number"
      ],
      "metadata": {
        "id": "_LIeLn4U5oX6"
      },
      "execution_count": null,
      "outputs": []
    },
    {
      "cell_type": "code",
      "source": [
        "s='Learn Bay Python'\n",
        "s[::2]"
      ],
      "metadata": {
        "colab": {
          "base_uri": "https://localhost:8080/",
          "height": 35
        },
        "id": "r1qu9UZ15sw6",
        "outputId": "84245d8f-9659-4f66-ec61-c3eea1eb4e61"
      },
      "execution_count": null,
      "outputs": [
        {
          "output_type": "execute_result",
          "data": {
            "text/plain": [
              "'LanByPto'"
            ],
            "application/vnd.google.colaboratory.intrinsic+json": {
              "type": "string"
            }
          },
          "metadata": {},
          "execution_count": 28
        }
      ]
    },
    {
      "cell_type": "code",
      "source": [
        "#8. Check if the first and last number of a list is the same"
      ],
      "metadata": {
        "id": "rH7DuWuj5szm"
      },
      "execution_count": null,
      "outputs": []
    },
    {
      "cell_type": "code",
      "source": [
        "list = [1,2,3,4,5,1]\n",
        "print(list[0]==list[-1])"
      ],
      "metadata": {
        "colab": {
          "base_uri": "https://localhost:8080/"
        },
        "id": "sEAY17mX5xq6",
        "outputId": "1b54d825-7529-4804-ebfa-73996612a862"
      },
      "execution_count": null,
      "outputs": [
        {
          "output_type": "stream",
          "name": "stdout",
          "text": [
            "True\n"
          ]
        }
      ]
    },
    {
      "cell_type": "code",
      "source": [
        "#9. Calculate income tax for the input income by adhering to the Indian rules."
      ],
      "metadata": {
        "id": "KDceO2mr5xtj"
      },
      "execution_count": null,
      "outputs": []
    },
    {
      "cell_type": "code",
      "source": [
        "Income = int(input('Enter Income:'))\n",
        "\n",
        "if Income >= 50000000 and Income < 200000000:\n",
        "    print(0.05*int(Income))\n",
        "elif Income <= 200000000 and Income < 500000000:\n",
        "    print(0.15*int(Income))\n",
        "elif Income <= 500000000:\n",
        "    print(0.25*int(Income))\n",
        "else:\n",
        "    print('tax free')"
      ],
      "metadata": {
        "colab": {
          "base_uri": "https://localhost:8080/"
        },
        "id": "NfBXgY4g51Cv",
        "outputId": "af78a630-f8e3-4cb7-801d-dceda8a3256e"
      },
      "execution_count": null,
      "outputs": [
        {
          "output_type": "stream",
          "name": "stdout",
          "text": [
            "Enter Income:200000000\n",
            "30000000.0\n"
          ]
        }
      ]
    },
    {
      "cell_type": "code",
      "source": [
        "#10. Write a Python program to check whether a string starts with vowel or not."
      ],
      "metadata": {
        "id": "kuA_Em2D51Ft"
      },
      "execution_count": null,
      "outputs": []
    },
    {
      "cell_type": "code",
      "source": [
        "l = input(\"Enter a string: \")\n",
        "\n",
        "if l[0].lower() in ('a', 'e', 'i', 'o', 'u'):\n",
        "  print(\"The string is start with a Vowel\")\n",
        "elif l[0].upper() in ('A', 'E', 'I', 'O', 'U'):\n",
        "  print(\"The string is start with a Vowel\")\n",
        "else:\n",
        "  print(\"The string is not start with a Vowel\")"
      ],
      "metadata": {
        "colab": {
          "base_uri": "https://localhost:8080/"
        },
        "id": "SCHCPT6154fa",
        "outputId": "2e282a40-7734-46fd-996a-7a09b6dea3aa"
      },
      "execution_count": null,
      "outputs": [
        {
          "output_type": "stream",
          "name": "stdout",
          "text": [
            "Enter a string: Abhi\n",
            "The string is start with a Vowel\n"
          ]
        }
      ]
    },
    {
      "cell_type": "code",
      "source": [
        "#11. Write a Python program to check if all the characters of a string are vowel or not."
      ],
      "metadata": {
        "id": "qUYr69S854h8"
      },
      "execution_count": null,
      "outputs": []
    },
    {
      "cell_type": "code",
      "source": [
        "my_word = \"YES SIR\"\n",
        "\n",
        "the_vowel = [\"a\",\"e\",\"i\",\"o\",\"u\"]\n",
        "\n",
        "print('All the characters of the string is vowel = ',my_word[0].lower() in the_vowel)"
      ],
      "metadata": {
        "colab": {
          "base_uri": "https://localhost:8080/"
        },
        "id": "9vB22gjX57Po",
        "outputId": "56e0599e-c774-4984-d46b-a5df8463a7ea"
      },
      "execution_count": null,
      "outputs": [
        {
          "output_type": "stream",
          "name": "stdout",
          "text": [
            "All the characters of the string is vowel =  False\n"
          ]
        }
      ]
    },
    {
      "cell_type": "code",
      "source": [
        "#12. WAP to calculate percentage of a student through 5 subjects. Take marks as input from the user."
      ],
      "metadata": {
        "id": "k-35j08_57SO"
      },
      "execution_count": null,
      "outputs": []
    },
    {
      "cell_type": "code",
      "source": [
        "s1 = int(input('Enter Marks for subject 1: '))\n",
        "s2 = int(input('Enter Marks for subject 2: '))\n",
        "s3 = int(input('Enter Marks for subject 3: '))\n",
        "s4 = int(input('Enter Marks for subject 4: '))\n",
        "s5 = int(input('Enter Marks for subject 5: '))\n",
        "\n",
        "\n",
        "print('your average marks is ',(s1+s2+s3+s4+s5)/500)"
      ],
      "metadata": {
        "colab": {
          "base_uri": "https://localhost:8080/"
        },
        "id": "mVsOxizY59t2",
        "outputId": "4c9e7965-047f-43c4-9439-9325e7060ae1"
      },
      "execution_count": null,
      "outputs": [
        {
          "output_type": "stream",
          "name": "stdout",
          "text": [
            "Enter Marks for subject 1: 56\n",
            "Enter Marks for subject 2: 67\n",
            "Enter Marks for subject 3: 89\n",
            "Enter Marks for subject 4: 90\n",
            "Enter Marks for subject 5: 56\n",
            "your average marks is  0.716\n"
          ]
        }
      ]
    },
    {
      "cell_type": "code",
      "source": [
        "#13. WAP to convert '95.3' taken as input from the user into float value."
      ],
      "metadata": {
        "id": "FGPb6s7N59wJ"
      },
      "execution_count": null,
      "outputs": []
    },
    {
      "cell_type": "code",
      "source": [
        "l=float(input('Enter value:'))\n",
        "\n",
        "print(l)"
      ],
      "metadata": {
        "colab": {
          "base_uri": "https://localhost:8080/"
        },
        "id": "Ap83fxDx6ACp",
        "outputId": "c700ec61-4480-4f69-bd06-c3f66515c5bb"
      },
      "execution_count": null,
      "outputs": [
        {
          "output_type": "stream",
          "name": "stdout",
          "text": [
            "Enter value:95.30\n",
            "95.3\n"
          ]
        }
      ]
    },
    {
      "cell_type": "code",
      "source": [
        "#14. WAP to count the number of zeroes present in a number taken as input from the user."
      ],
      "metadata": {
        "id": "VIRUzPZP6AFM"
      },
      "execution_count": null,
      "outputs": []
    },
    {
      "cell_type": "code",
      "source": [
        "user_input=input('Enter numbers: ')\n",
        "\n",
        "def count_zeros(number):\n",
        "  return str(number).count('0')\n",
        "count_zeros(user_input)"
      ],
      "metadata": {
        "colab": {
          "base_uri": "https://localhost:8080/"
        },
        "id": "y3aL9eXC6Cqs",
        "outputId": "1a95badd-bc79-4e25-eaaf-3a4f0827958c"
      },
      "execution_count": null,
      "outputs": [
        {
          "name": "stdout",
          "output_type": "stream",
          "text": [
            "Enter numbers: 387004034504350\n"
          ]
        },
        {
          "output_type": "execute_result",
          "data": {
            "text/plain": [
              "5"
            ]
          },
          "metadata": {},
          "execution_count": 125
        }
      ]
    },
    {
      "cell_type": "code",
      "source": [
        "#15. WAP to calculate the surface area of a triangle. Take the required values as input."
      ],
      "metadata": {
        "id": "RdbOrfdP6CtM"
      },
      "execution_count": null,
      "outputs": []
    },
    {
      "cell_type": "code",
      "source": [
        "tri_base = int(input('Enter base (in cm): '))\n",
        "tri_height = int(input('Enter height (in cm): '))\n",
        "\n",
        "0.5*tri_base*tri_height"
      ],
      "metadata": {
        "id": "UVZUouuM6Ez-",
        "colab": {
          "base_uri": "https://localhost:8080/"
        },
        "outputId": "ec13a4a8-c843-4bab-f955-4591d6fbcae7"
      },
      "execution_count": null,
      "outputs": [
        {
          "name": "stdout",
          "output_type": "stream",
          "text": [
            "Enter base (in cm): 10\n",
            "Enter height (in cm): 20\n"
          ]
        },
        {
          "output_type": "execute_result",
          "data": {
            "text/plain": [
              "100.0"
            ]
          },
          "metadata": {},
          "execution_count": 130
        }
      ]
    },
    {
      "cell_type": "code",
      "source": [
        "#16. WAP to concatenate two lists index-wise and save the result in a 3rd list"
      ],
      "metadata": {
        "id": "dn0BOlFB6E2j"
      },
      "execution_count": null,
      "outputs": []
    },
    {
      "cell_type": "code",
      "source": [
        "test_list1 = [1, 4, 5, 6, 5]\n",
        "test_list2 = [3, 5, 7, 2, 5]\n",
        "  \n",
        "test_list1.extend(test_list2)\n",
        "\n",
        "print (\"Concatenated 3rd List : \" + str(test_list1))"
      ],
      "metadata": {
        "id": "ivBx_UhP6HrZ",
        "colab": {
          "base_uri": "https://localhost:8080/"
        },
        "outputId": "aa1b205a-a22c-4c8c-b609-888f4c20e0fb"
      },
      "execution_count": null,
      "outputs": [
        {
          "output_type": "stream",
          "name": "stdout",
          "text": [
            "Concatenated 3rd List : [1, 4, 5, 6, 5, 3, 5, 7, 2, 5]\n"
          ]
        }
      ]
    },
    {
      "cell_type": "code",
      "source": [
        "#17. WAP to convert two lists into a dictionary. Take the elements from first list as keys and elements from second list as values."
      ],
      "metadata": {
        "id": "IYHstvo76Htu"
      },
      "execution_count": null,
      "outputs": []
    },
    {
      "cell_type": "code",
      "source": [
        "list_keys = [\"Learn\", \"Bay\", \"Python\"]\n",
        "list_values = [1, 4, 5]\n",
        " \n",
        "res = {}\n",
        "for key in list_keys:\n",
        "    for value in list_values:\n",
        "        res[key] = value\n",
        "        list_values.remove(value)\n",
        "        break\n",
        " \n",
        "# Printing resultant dictionary\n",
        "print(\"Compiled Dictionary : \" + str(res))"
      ],
      "metadata": {
        "id": "qH2w5_sU6MRP",
        "colab": {
          "base_uri": "https://localhost:8080/"
        },
        "outputId": "0526b80e-320b-4576-d204-11a3c198c67a"
      },
      "execution_count": null,
      "outputs": [
        {
          "output_type": "stream",
          "name": "stdout",
          "text": [
            "Compiled Dictionary : {'Learn': 1, 'Bay': 4, 'Python': 5}\n"
          ]
        }
      ]
    },
    {
      "cell_type": "code",
      "source": [
        "#18. Input and store the marks of 10 students in a list. Print max and min marks."
      ],
      "metadata": {
        "id": "q-pFyjoP6MT5"
      },
      "execution_count": null,
      "outputs": []
    },
    {
      "cell_type": "code",
      "source": [
        "count = 0\n",
        "x = []\n",
        "while(True):\n",
        "    num = input('Enter the marks: ')\n",
        "    if(num.isdigit()):\n",
        "        x.append(int(num))\n",
        "        count += 1\n",
        "    elif(x):\n",
        "        high = max(x)\n",
        "        low = min(x)\n",
        "        print(\"Your Highest Marks is: \" + str(high))\n",
        "        print(\"Your Lowest Marks is: \" + str(low))\n",
        "        break\n",
        "    else:\n",
        "        print(\"Please enter some marks\")\n",
        "        break"
      ],
      "metadata": {
        "colab": {
          "base_uri": "https://localhost:8080/"
        },
        "id": "HMjHi4pJ6OjA",
        "outputId": "522c0499-3a28-447e-c53e-7b026582ac75"
      },
      "execution_count": null,
      "outputs": [
        {
          "output_type": "stream",
          "name": "stdout",
          "text": [
            "Enter the marks: 123\n",
            "Enter the marks: 234\n",
            "Enter the marks: 345\n",
            "Enter the marks: 444\n",
            "Enter the marks: 567\n",
            "Enter the marks: 678\n",
            "Enter the marks: 789\n",
            "Enter the marks: 890\n",
            "Enter the marks: 987\n",
            "Enter the marks: 111\n",
            "Enter the marks: x\n",
            "Your Highest Marks is: 987\n",
            "Your Lowest Marks is: 111\n"
          ]
        }
      ]
    },
    {
      "cell_type": "code",
      "source": [
        "#19. WAP to save the username and password of 10 users in a dictionary."
      ],
      "metadata": {
        "id": "1S7nW2fl6Ol0"
      },
      "execution_count": null,
      "outputs": []
    },
    {
      "cell_type": "code",
      "source": [
        "def add(**UP):\n",
        "  print('Save Username:Password', UP)\n",
        "  return\n",
        "\n",
        "add(User1 = 'abc', User2 = 413, User3 = 'cde', User4 = 243,User5 = 'learn',User6 = 'Bay',User7 = 'Learn123', User8 = \"123Learn\", User9 = 'Python123', User10 = '123Python')"
      ],
      "metadata": {
        "id": "HeU3mhJJ6QtB",
        "colab": {
          "base_uri": "https://localhost:8080/"
        },
        "outputId": "39e37da8-f306-4ebb-b038-86c9efd49d38"
      },
      "execution_count": null,
      "outputs": [
        {
          "output_type": "stream",
          "name": "stdout",
          "text": [
            "Save Username:Password {'User1': 'abc', 'User2': 413, 'User3': 'cde', 'User4': 243, 'User5': 'learn', 'User6': 'Bay', 'User7': 'Learn123', 'User8': '123Learn', 'User9': 'Python123', 'User10': '123Python'}\n"
          ]
        }
      ]
    },
    {
      "cell_type": "code",
      "source": [
        "#20. WAP to find the sum of the first n positive integers. Take n as input from the user."
      ],
      "metadata": {
        "id": "hT-D_X9J6Qvh"
      },
      "execution_count": null,
      "outputs": []
    },
    {
      "cell_type": "code",
      "source": [
        "n = input()\n",
        "\n",
        "int(n[0]) + int(n[0])"
      ],
      "metadata": {
        "id": "2nfRtinl6Se0",
        "colab": {
          "base_uri": "https://localhost:8080/"
        },
        "outputId": "af45e1f7-3598-4e8f-dd32-2dfb47c73aaa"
      },
      "execution_count": null,
      "outputs": [
        {
          "name": "stdout",
          "output_type": "stream",
          "text": [
            "545\n"
          ]
        },
        {
          "output_type": "execute_result",
          "data": {
            "text/plain": [
              "10"
            ]
          },
          "metadata": {},
          "execution_count": 173
        }
      ]
    }
  ]
}